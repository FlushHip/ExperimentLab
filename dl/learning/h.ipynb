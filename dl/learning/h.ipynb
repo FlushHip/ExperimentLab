{
 "cells": [
  {
   "cell_type": "markdown",
   "metadata": {},
   "source": [
    "# 完整的模型训练套路"
   ]
  },
  {
   "cell_type": "code",
   "execution_count": null,
   "metadata": {},
   "outputs": [],
   "source": [
    "import torch\n",
    "import torchvision\n",
    "import time\n",
    "\n",
    "from torch import nn\n",
    "from torch.utils.data import DataLoader\n",
    "\n",
    "from torch.utils.tensorboard import SummaryWriter"
   ]
  },
  {
   "cell_type": "markdown",
   "metadata": {},
   "source": [
    "## 一些超参数"
   ]
  },
  {
   "cell_type": "markdown",
   "metadata": {},
   "source": [
    "## 准备数据集"
   ]
  },
  {
   "cell_type": "code",
   "execution_count": null,
   "metadata": {},
   "outputs": [],
   "source": [
    "train_data = torchvision.datasets.CIFAR10(\".data\", train=True\n",
    "                                       , transform=torchvision.transforms.ToTensor()\n",
    "                                       , download=True)\n",
    "test_data = torchvision.datasets.CIFAR10(\".data\", train=False\n",
    "                                       , transform=torchvision.transforms.ToTensor()\n",
    "                                       , download=True)\n",
    "train_data_size, test_data_size = len(train_data), len(test_data)\n",
    "train_data_size, test_data_size"
   ]
  },
  {
   "cell_type": "markdown",
   "metadata": {},
   "source": [
    "## 准备`DataLoader`"
   ]
  },
  {
   "cell_type": "code",
   "execution_count": null,
   "metadata": {},
   "outputs": [],
   "source": [
    "batch_size = 64\n",
    "train_dataloader = DataLoader(train_data, batch_size=batch_size)\n",
    "test_dataloader = DataLoader(test_data, batch_size=batch_size)"
   ]
  },
  {
   "cell_type": "markdown",
   "metadata": {},
   "source": [
    "## 设定代码的运行设备"
   ]
  },
  {
   "cell_type": "code",
   "execution_count": null,
   "metadata": {},
   "outputs": [],
   "source": [
    "device = torch.device('cpu')\n",
    "if torch.cuda.is_available():\n",
    "    device = torch.device('cuda')\n",
    "device"
   ]
  },
  {
   "cell_type": "markdown",
   "metadata": {},
   "source": [
    "## 定义网络并创建网络"
   ]
  },
  {
   "cell_type": "code",
   "execution_count": null,
   "metadata": {},
   "outputs": [],
   "source": [
    "model = nn.Sequential(\n",
    "    nn.Conv2d(3, 32, 5, padding=2),\n",
    "    nn.MaxPool2d(2),\n",
    "    nn.Conv2d(32, 32, 5, padding=2),\n",
    "    nn.MaxPool2d(2),\n",
    "    nn.Conv2d(32, 64, 5, padding=2),\n",
    "    nn.MaxPool2d(2),\n",
    "    nn.Flatten(),\n",
    "    nn.Linear(1024, 64),\n",
    "    nn.Linear(64, 10),\n",
    ")\n",
    "model = model.to(device)\n",
    "model"
   ]
  },
  {
   "cell_type": "markdown",
   "metadata": {},
   "source": [
    "## 损失函数"
   ]
  },
  {
   "cell_type": "code",
   "execution_count": null,
   "metadata": {},
   "outputs": [],
   "source": [
    "loss_fn = nn.CrossEntropyLoss()\n",
    "loss_fn = loss_fn.to(device)"
   ]
  },
  {
   "cell_type": "markdown",
   "metadata": {},
   "source": [
    "## 优化器"
   ]
  },
  {
   "cell_type": "code",
   "execution_count": null,
   "metadata": {},
   "outputs": [],
   "source": [
    "lr = 0.001\n",
    "optimizer = torch.optim.Adam(model.parameters(), lr)"
   ]
  },
  {
   "cell_type": "markdown",
   "metadata": {},
   "source": [
    "## 可视化"
   ]
  },
  {
   "cell_type": "code",
   "execution_count": null,
   "metadata": {},
   "outputs": [],
   "source": [
    "writer = SummaryWriter(\".logs/h\")"
   ]
  },
  {
   "cell_type": "code",
   "execution_count": null,
   "metadata": {},
   "outputs": [],
   "source": [
    "total_train_step = 0\n",
    "total_test_step = 0\n",
    "epoches = 3\n",
    "\n",
    "for epoch in range(epoches):\n",
    "    print(\"=========The {} epoch begin=========\".format(epoch + 1))\n",
    "\n",
    "    model.train()\n",
    "\n",
    "    start_time = time.time()\n",
    "    for data in train_dataloader:\n",
    "        images, targets = data\n",
    "        images = images.to(device)\n",
    "        targets = targets.to(device)\n",
    "        outputs = model(images)\n",
    "\n",
    "        loss = loss_fn(outputs, targets)\n",
    "        optimizer.zero_grad()\n",
    "        loss.backward()\n",
    "        optimizer.step()\n",
    "\n",
    "        total_train_step += 1\n",
    "        if total_train_step % 100 == 1:\n",
    "            end_time = time.time();\n",
    "            print(\"step: {} , loss: {}, time: {}\".format(total_train_step, loss.item(), end_time - start_time))\n",
    "            start_time = end_time\n",
    "        writer.add_scalar('train_loss', loss.item(), total_train_step)\n",
    "\n",
    "\n",
    "    model.eval()\n",
    "\n",
    "    total_test_loss = 0\n",
    "    total_accuracy = 0\n",
    "    total_test_step += 1\n",
    "    with torch.no_grad():\n",
    "        for data in test_dataloader:\n",
    "            images, targets = data\n",
    "            images = images.to(device)\n",
    "            targets = targets.to(device)\n",
    "            outputs = model(images)\n",
    "            loss = loss_fn(outputs, targets)\n",
    "            total_test_loss += loss.item()\n",
    "            total_accuracy += (outputs.argmax(1) == targets).sum()\n",
    "    print(\"\\ttest data set total loss: {}\".format(total_test_loss))\n",
    "    print(\"\\ttest data set total accuracy: {}\".format(total_accuracy))\n",
    "    writer.add_scalar('test_accuracy', total_accuracy / test_data_size, total_test_step)\n",
    "\n",
    "    torch.save(model, '.param/cifar10_{}.pth'.format(epoch))\n",
    "\n",
    "writer.close()"
   ]
  },
  {
   "cell_type": "markdown",
   "metadata": {},
   "source": [
    "# 完整的模型验证套路"
   ]
  },
  {
   "cell_type": "code",
   "execution_count": null,
   "metadata": {},
   "outputs": [],
   "source": [
    "from PIL import Image\n",
    "\n",
    "image_path = '.data/dog.png'\n",
    "image = Image.open(image_path)\n",
    "image = image.convert('RGB')\n",
    "print(image)"
   ]
  },
  {
   "cell_type": "code",
   "execution_count": null,
   "metadata": {},
   "outputs": [],
   "source": [
    "transform = torchvision.transforms.Compose([\n",
    "    torchvision.transforms.Resize((32, 32)),\n",
    "    torchvision.transforms.ToTensor()])\n",
    "image = transform(image)\n",
    "image.shape"
   ]
  },
  {
   "cell_type": "code",
   "execution_count": null,
   "metadata": {},
   "outputs": [],
   "source": [
    "model_restore = torch.load('.param/cifar10_{}.pth'.format(epoches - 1))\n",
    "model_restore"
   ]
  },
  {
   "cell_type": "code",
   "execution_count": null,
   "metadata": {},
   "outputs": [],
   "source": [
    "image = torch.reshape(image, (1, 3, 32, 32))\n",
    "image = image.to(device)\n",
    "\n",
    "model_restore.eval()\n",
    "with torch.no_grad():\n",
    "    output = model_restore(image)\n",
    "\n",
    "output = torch.argmax(output)\n",
    "output"
   ]
  }
 ],
 "metadata": {
  "interpreter": {
   "hash": "1be8e1e697be24aa51be46f7515f4d96c6005120fc689094ce96895b044c9b1b"
  },
  "kernelspec": {
   "display_name": "Python 3.8.12 64-bit ('pytorch': conda)",
   "language": "python",
   "name": "python3"
  },
  "language_info": {
   "codemirror_mode": {
    "name": "ipython",
    "version": 3
   },
   "file_extension": ".py",
   "mimetype": "text/x-python",
   "name": "python",
   "nbconvert_exporter": "python",
   "pygments_lexer": "ipython3",
   "version": "3.8.12"
  },
  "orig_nbformat": 4
 },
 "nbformat": 4,
 "nbformat_minor": 2
}
