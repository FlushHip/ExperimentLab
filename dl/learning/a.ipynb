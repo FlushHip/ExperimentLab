{
 "cells": [
  {
   "cell_type": "code",
   "execution_count": null,
   "metadata": {},
   "outputs": [],
   "source": [
    "import torch\n",
    "import torchvision\n",
    "\n",
    "from torch import nn\n",
    "from torch.utils.data import DataLoader\n",
    "\n",
    "from torch.utils.tensorboard import SummaryWriter"
   ]
  },
  {
   "cell_type": "code",
   "execution_count": null,
   "metadata": {},
   "outputs": [],
   "source": [
    "dataset = torchvision.datasets.CIFAR10(\".data\", train=False\n",
    "                                       , transform=torchvision.transforms.ToTensor()\n",
    "                                       , download=True)\n",
    "dataloader = DataLoader(dataset, batch_size=64)"
   ]
  },
  {
   "cell_type": "code",
   "execution_count": null,
   "metadata": {},
   "outputs": [],
   "source": [
    "class MyModule(nn.Module):\n",
    "    def __init__(self) -> None:\n",
    "        super().__init__()\n",
    "\n",
    "        self.conv1 = nn.Conv2d(in_channels=3\n",
    "                               , out_channels=6\n",
    "                               , kernel_size=3\n",
    "                               , stride=1\n",
    "                               , padding=0)\n",
    "\n",
    "    def forward(self, x):\n",
    "        x = self.conv1(x)\n",
    "        return x"
   ]
  },
  {
   "cell_type": "code",
   "execution_count": null,
   "metadata": {},
   "outputs": [],
   "source": [
    "writer = SummaryWriter(\".logs/a\")\n",
    "\n",
    "model = MyModule()\n",
    "\n",
    "step = 0\n",
    "for data in dataloader:\n",
    "    images, targets = data\n",
    "    output = model(images)\n",
    "    writer.add_images(\"input\", images, step)\n",
    "    if step == 0:\n",
    "        print(images.shape, output.shape)\n",
    "    output = torch.reshape(output, (-1, 3, 30, 30))\n",
    "    writer.add_images(\"output\", output, step)\n",
    "\n",
    "    step = step + 1\n"
   ]
  }
 ],
 "metadata": {
  "interpreter": {
   "hash": "ce52bf9348b7ea1701e36c9ba79582189703dd8ae4e68226503774c7267e9e52"
  },
  "kernelspec": {
   "display_name": "Python 3.8.12 64-bit ('pytorch': conda)",
   "language": "python",
   "name": "python3"
  },
  "language_info": {
   "codemirror_mode": {
    "name": "ipython",
    "version": 3
   },
   "file_extension": ".py",
   "mimetype": "text/x-python",
   "name": "python",
   "nbconvert_exporter": "python",
   "pygments_lexer": "ipython3",
   "version": "3.8.12"
  },
  "orig_nbformat": 4
 },
 "nbformat": 4,
 "nbformat_minor": 2
}
