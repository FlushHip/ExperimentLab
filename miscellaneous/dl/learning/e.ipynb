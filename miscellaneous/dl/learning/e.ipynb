{
 "cells": [
  {
   "cell_type": "code",
   "execution_count": 39,
   "metadata": {},
   "outputs": [],
   "source": [
    "import torch\n",
    "import torchvision\n",
    "\n",
    "from torch import nn\n",
    "from torch import optim\n",
    "from torch.utils.data import DataLoader\n",
    "from torch.utils.tensorboard import SummaryWriter"
   ]
  },
  {
   "cell_type": "code",
   "execution_count": 40,
   "metadata": {},
   "outputs": [
    {
     "data": {
      "text/plain": [
       "Sequential(\n",
       "  (0): Conv2d(3, 32, kernel_size=(5, 5), stride=(1, 1), padding=(2, 2))\n",
       "  (1): MaxPool2d(kernel_size=2, stride=2, padding=0, dilation=1, ceil_mode=False)\n",
       "  (2): Conv2d(32, 32, kernel_size=(5, 5), stride=(1, 1), padding=(2, 2))\n",
       "  (3): MaxPool2d(kernel_size=2, stride=2, padding=0, dilation=1, ceil_mode=False)\n",
       "  (4): Conv2d(32, 64, kernel_size=(5, 5), stride=(1, 1), padding=(2, 2))\n",
       "  (5): MaxPool2d(kernel_size=2, stride=2, padding=0, dilation=1, ceil_mode=False)\n",
       "  (6): Flatten(start_dim=1, end_dim=-1)\n",
       "  (7): Linear(in_features=1024, out_features=64, bias=True)\n",
       "  (8): Linear(in_features=64, out_features=10, bias=True)\n",
       ")"
      ]
     },
     "execution_count": 40,
     "metadata": {},
     "output_type": "execute_result"
    }
   ],
   "source": [
    "model = nn.Sequential(\n",
    "    nn.Conv2d(3, 32, 5, padding=2),\n",
    "    nn.MaxPool2d(2),\n",
    "    nn.Conv2d(32, 32, 5, padding=2),\n",
    "    nn.MaxPool2d(2),\n",
    "    nn.Conv2d(32, 64, 5, padding=2),\n",
    "    nn.MaxPool2d(2),\n",
    "    nn.Flatten(),\n",
    "    nn.Linear(1024, 64),\n",
    "    nn.Linear(64, 10),\n",
    ")\n",
    "\n",
    "model"
   ]
  },
  {
   "cell_type": "code",
   "execution_count": 41,
   "metadata": {},
   "outputs": [
    {
     "data": {
      "text/plain": [
       "(torch.Size([64, 3, 32, 32]), torch.Size([64, 10]))"
      ]
     },
     "execution_count": 41,
     "metadata": {},
     "output_type": "execute_result"
    }
   ],
   "source": [
    "input = torch.randn(64, 3, 32, 32)\n",
    "output = model(input)\n",
    "\n",
    "input.shape, output.shape"
   ]
  },
  {
   "cell_type": "code",
   "execution_count": 42,
   "metadata": {},
   "outputs": [],
   "source": [
    "\n",
    "writer = SummaryWriter(\".logs/e\")\n",
    "\n",
    "writer.add_graph(model, input)\n",
    "\n",
    "writer.close()"
   ]
  },
  {
   "cell_type": "code",
   "execution_count": 43,
   "metadata": {},
   "outputs": [
    {
     "name": "stdout",
     "output_type": "stream",
     "text": [
      "Files already downloaded and verified\n"
     ]
    }
   ],
   "source": [
    "\n",
    "dataset = torchvision.datasets.CIFAR10(\".data\", train=False\n",
    "                                       , transform=torchvision.transforms.ToTensor()\n",
    "                                       , download=True)\n",
    "dataloader = DataLoader(dataset, batch_size=1)\n"
   ]
  },
  {
   "cell_type": "code",
   "execution_count": 45,
   "metadata": {},
   "outputs": [
    {
     "name": "stdout",
     "output_type": "stream",
     "text": [
      "tensor(18352.5332, grad_fn=<AddBackward0>)\n",
      "tensor(16496.8906, grad_fn=<AddBackward0>)\n",
      "tensor(15453.9814, grad_fn=<AddBackward0>)\n",
      "tensor(14559.9541, grad_fn=<AddBackward0>)\n",
      "tensor(13747.7900, grad_fn=<AddBackward0>)\n",
      "tensor(12967.3535, grad_fn=<AddBackward0>)\n",
      "tensor(12206.3398, grad_fn=<AddBackward0>)\n",
      "tensor(11470.7393, grad_fn=<AddBackward0>)\n",
      "tensor(10735.8838, grad_fn=<AddBackward0>)\n",
      "tensor(9991.5244, grad_fn=<AddBackward0>)\n",
      "tensor(9242.0303, grad_fn=<AddBackward0>)\n",
      "tensor(8454.5146, grad_fn=<AddBackward0>)\n",
      "tensor(7636.4937, grad_fn=<AddBackward0>)\n",
      "tensor(6792.1978, grad_fn=<AddBackward0>)\n",
      "tensor(5940.8960, grad_fn=<AddBackward0>)\n",
      "tensor(5138.1553, grad_fn=<AddBackward0>)\n",
      "tensor(4625.6206, grad_fn=<AddBackward0>)\n",
      "tensor(4445.8237, grad_fn=<AddBackward0>)\n",
      "tensor(3958.2332, grad_fn=<AddBackward0>)\n",
      "tensor(3529.9521, grad_fn=<AddBackward0>)\n"
     ]
    }
   ],
   "source": [
    "loss_fn = nn.CrossEntropyLoss()\n",
    "optimizer = optim.SGD(model.parameters(), lr=0.001)\n",
    "\n",
    "for epoch in range(20):\n",
    "    sum_loss = 0.0\n",
    "    for data in dataloader:\n",
    "        optimizer.zero_grad()\n",
    "\n",
    "        images, targets = data\n",
    "        ouput = model(images)\n",
    "        result_loss = loss_fn(ouput, targets)\n",
    "        result_loss.backward()\n",
    "\n",
    "        optimizer.step()\n",
    "\n",
    "        sum_loss += result_loss\n",
    "    \n",
    "    print(sum_loss)"
   ]
  },
  {
   "cell_type": "code",
   "execution_count": null,
   "metadata": {},
   "outputs": [],
   "source": []
  }
 ],
 "metadata": {
  "interpreter": {
   "hash": "ce52bf9348b7ea1701e36c9ba79582189703dd8ae4e68226503774c7267e9e52"
  },
  "kernelspec": {
   "display_name": "Python 3.8.12 64-bit ('pytorch': conda)",
   "language": "python",
   "name": "python3"
  },
  "language_info": {
   "codemirror_mode": {
    "name": "ipython",
    "version": 3
   },
   "file_extension": ".py",
   "mimetype": "text/x-python",
   "name": "python",
   "nbconvert_exporter": "python",
   "pygments_lexer": "ipython3",
   "version": "3.8.12"
  },
  "orig_nbformat": 4
 },
 "nbformat": 4,
 "nbformat_minor": 2
}
