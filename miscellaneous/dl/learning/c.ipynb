{
 "cells": [
  {
   "cell_type": "code",
   "execution_count": null,
   "metadata": {},
   "outputs": [],
   "source": [
    "import torch\n",
    "import torchvision\n",
    "\n",
    "from torch import nn\n",
    "from torch.utils.data import DataLoader\n",
    "\n",
    "from torch.utils.tensorboard import SummaryWriter"
   ]
  },
  {
   "cell_type": "code",
   "execution_count": null,
   "metadata": {},
   "outputs": [],
   "source": [
    "dataset = torchvision.datasets.CIFAR10(\".data\", train=False\n",
    "                                       , transform=torchvision.transforms.ToTensor()\n",
    "                                       , download=True)\n",
    "dataloader = DataLoader(dataset, batch_size=64)"
   ]
  },
  {
   "cell_type": "code",
   "execution_count": null,
   "metadata": {},
   "outputs": [],
   "source": [
    "class MyModule(nn.Module):\n",
    "    def __init__(self) -> None:\n",
    "        super().__init__()\n",
    "\n",
    "        self.sigmoid1 = nn.Sigmoid()\n",
    "        self.relu = nn.ReLU()\n",
    "\n",
    "    def forward(self, x, f):\n",
    "        if f:\n",
    "            x = self.sigmoid1(x)\n",
    "        else:\n",
    "            x = self.relu(x)\n",
    "        return x"
   ]
  },
  {
   "cell_type": "code",
   "execution_count": null,
   "metadata": {},
   "outputs": [],
   "source": [
    "writer = SummaryWriter(\".logs/c\")\n",
    "\n",
    "model = MyModule()\n",
    "\n",
    "step = 0\n",
    "for data in dataloader:\n",
    "    images, targets = data\n",
    "    writer.add_images(\"input\", images, step)\n",
    "    output1 = model(images, True)\n",
    "    output2 = model(images, False)\n",
    "    writer.add_images(\"output1\", output1, step)\n",
    "    writer.add_images(\"output2\", output2, step)\n",
    "\n",
    "    step = step + 1\n"
   ]
  }
 ],
 "metadata": {
  "interpreter": {
   "hash": "ce52bf9348b7ea1701e36c9ba79582189703dd8ae4e68226503774c7267e9e52"
  },
  "kernelspec": {
   "display_name": "Python 3.8.12 64-bit ('pytorch': conda)",
   "language": "python",
   "name": "python3"
  },
  "language_info": {
   "codemirror_mode": {
    "name": "ipython",
    "version": 3
   },
   "file_extension": ".py",
   "mimetype": "text/x-python",
   "name": "python",
   "nbconvert_exporter": "python",
   "pygments_lexer": "ipython3",
   "version": "3.8.12"
  },
  "orig_nbformat": 4
 },
 "nbformat": 4,
 "nbformat_minor": 2
}
